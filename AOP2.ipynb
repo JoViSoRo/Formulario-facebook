{
  "nbformat": 4,
  "nbformat_minor": 0,
  "metadata": {
    "colab": {
      "provenance": [],
      "collapsed_sections": [
        "3LkE5Nk2_CkK",
        "iAIhXJ-W8MkU",
        "Qd_XKh9o-fd7"
      ],
      "include_colab_link": true
    },
    "kernelspec": {
      "name": "python3",
      "display_name": "Python 3"
    }
  },
  "cells": [
    {
      "cell_type": "markdown",
      "metadata": {
        "id": "view-in-github",
        "colab_type": "text"
      },
      "source": [
        "<a href=\"https://colab.research.google.com/github/JoViSoRo/Formulario-facebook/blob/main/AOP2.ipynb\" target=\"_parent\"><img src=\"https://colab.research.google.com/assets/colab-badge.svg\" alt=\"Open In Colab\"/></a>"
      ]
    },
    {
      "cell_type": "markdown",
      "metadata": {
        "id": "G90zxY79qIXe"
      },
      "source": [
        "<?xml version=\"1.0\" encoding=\"UTF-8\"?>\n",
        "<html>\n",
        "  <body>\n",
        "    <header></header>\n",
        "        <CENTER>\n",
        "          <img src=\"https://www.uvv.br/wp-content/themes/uvvBr/templates/assets//img/logouvv.svg\" alt=\"UVV-LOGO\" style = width=\"100px\"; height=\"100px\">\n",
        "        </CENTER>\n",
        "        <CENTER><b>Introdução à Programação de Computadores - PYTHON</b></CENTER>\n",
        "        <CENTER><b>Prof.: Alessandro Bertolani Oliveira</b>\n",
        "        <CENTER><b>ATIVIDADE ONLINE PONTUADA 2</b></CENTER><br/>"
      ]
    },
    {
      "cell_type": "markdown",
      "metadata": {
        "id": "yGV4CEnF3gTT"
      },
      "source": [
        "NOME DO ALUNO:"
      ]
    },
    {
      "cell_type": "markdown",
      "metadata": {
        "id": "mUAxhTYL3ivG"
      },
      "source": [
        "LINK PARA MEU NOTEBOOK COLAB: [Clique aqui!](https://)"
      ]
    },
    {
      "cell_type": "markdown",
      "metadata": {
        "id": "yZfJjeQgqTo_"
      },
      "source": [
        "# ATIVIDADES ONLINE PONTUADA 2:"
      ]
    },
    {
      "cell_type": "markdown",
      "metadata": {
        "id": "LN1vCfK119RZ"
      },
      "source": [
        "Faça um algoritmo em Python que leia de cem (100) alunos de um curso EAD da UVV:  \n",
        "\n",
        "*   LER DO USUÁRIO: Nota [0, 1] na AOP1: Atividade Online Pontuada 1;\n",
        "\n",
        "*   LER DO USUÁRIO: Nota [0, 2] na AOP2: Atividade Online Pontuada 2; \n",
        "\n",
        "*   LER DO USUÁRIO: Nota [0, 1] na AOP3: Atividade Online Pontuada 3; \n",
        "\n",
        "*   LER DO USUÁRIO: Nota [0, 6] da PROVA REGULAR;\n",
        "\n",
        "*   LER DO USUÁRIO: Nota [0, 10] da PROVA DE RECUPERAÇÃO: Se o alunos não obteve Média do Módulo (MM) = AOP1 + APO2 + AOP3 + PROVA REGULAR >= 7.0 \n",
        " \n",
        "E, calcule e mostre na tela: as informações a seguir: \n",
        "\n",
        "*  Média do Módulo (MM) = AOP1 + APO2 + AOP3 + PROVA REGULAR \n",
        "\n",
        "**EXIBIR:**\n",
        "\n",
        "*  Status do Aluno: Aprovado ou Reprovado; \n",
        "\n",
        "*  A quantidade de alunos (em porcentagem) que foram: Aprovado ou Reprovado; \n",
        "\n",
        "Lembrando que, é considerado com Status Aprovado, o aluno que: \n",
        "\n",
        "*  Obteve Média do Módulo >= 7.0 ou \n",
        "\n",
        "*  Obteve Média Geral (com a Prova de Recuperação) >= 5.0 \n",
        "\n",
        "**OBSERVAÇÃO:** Para testar seu programa reduzir a quantidade de alunos da turma para 5 alunos, apenas. \n"
      ]
    },
    {
      "cell_type": "code",
      "metadata": {
        "id": "WyAa1i5c3ddS",
        "outputId": "209720ca-3533-48b4-fcc6-db4ad6cbd345",
        "colab": {
          "base_uri": "https://localhost:8080/"
        }
      },
      "source": [
        "# FAZER SEU CÓDIGO AQUI:\n",
        "\n",
        "print('\\033[036m='*50)\n",
        "print('           Universidade de Vila Velha')\n",
        "print('A maior universidade particular do Espirito Santo')\n",
        "print('='*50)\n",
        "\n",
        "\n",
        "alunos = []\n",
        "medias = []\n",
        "quantidadeAprovado = 0\n",
        "numeroDeAlunos = int(input('Quantos alunos tem na sua sala? '))\n",
        "nomeDosAlunos = numeroDeAlunos\n",
        "totalDeAlunos = numeroDeAlunos\n",
        "\n",
        "\n",
        "\n",
        "while numeroDeAlunos > 0:\n",
        "    alunos.append(input('Nome do aluno: '))\n",
        "    nota1 = float(input('Nota da OAP1 (usando ponto): '))\n",
        "    if nota1 > 1:\n",
        "        print(f'A nota da prova 1, só pode valer até 1 ponto, e você colocou {nota1}')\n",
        "        exit()\n",
        "    nota2 = float(input('Nota da OAP2 (usando ponto): '))\n",
        "    if nota2 > 2:\n",
        "        print(f'A nota da prova 2, só pode valer até 2 ponto, e você colocou {nota2}')\n",
        "        exit()\n",
        "    nota3 = float(input('Nota da OAP3 (usando ponto): '))\n",
        "    if nota3 > 1:\n",
        "        print(f'A nota da prova 3, só pode valer até 1 ponto, e você colocou {nota3}')\n",
        "        exit()\n",
        "    nota4 = float(input('Nota da prova regular(usando ponto): '))\n",
        "    if nota4 > 6:\n",
        "        print(f'A nota da prova 4, só pode valer até 6 ponto, e você colocou {nota4}')\n",
        "        exit()\n",
        "    medias.append(nota1 + nota2 + nota3 + nota4)\n",
        "    numeroDeAlunos = numeroDeAlunos - 1\n",
        "    print(' ')\n",
        "\n",
        "\n",
        "while nomeDosAlunos > 0:\n",
        "    nomeDosAlunos = nomeDosAlunos - 1\n",
        "    if medias[nomeDosAlunos] < 7:\n",
        "        print('\\033[033m='*50)\n",
        "        notarecuperacao = float(input(f'Aluno {alunos[nomeDosAlunos]} foi está quase reprovando, por favor, ensira a nota da prova de recuperação: '))\n",
        "        \n",
        "        if notarecuperacao >= 5:\n",
        "            print('\\033[032m='*50)\n",
        "            print(f'{alunos[nomeDosAlunos]} foi aprovado(a)! e teve a nota final de: {notarecuperacao}')\n",
        "            quantidadeAprovado = quantidadeAprovado + 1\n",
        "\n",
        "        else:\n",
        "            print('\\033[031m='*50)\n",
        "            print(f'{alunos[nomeDosAlunos]} Reprovado(a) pois ficou com a média de {notarecuperacao}! ')\n",
        "\n",
        "    else:\n",
        "        print('\\033[032m='*50)\n",
        "        print(f'{alunos[nomeDosAlunos]} foi aprovado(a)! e teve a nota final de: {medias[nomeDosAlunos]}')\n",
        "        quantidadeAprovado = quantidadeAprovado + 1\n",
        "\n",
        "print('\\033[035m='*50)\n",
        "porcentagem = (quantidadeAprovado * 100) / totalDeAlunos\n",
        "print(f'Quantidade Aprovado: {porcentagem: .2f}%')"
      ],
      "execution_count": null,
      "outputs": [
        {
          "output_type": "stream",
          "name": "stdout",
          "text": [
            "\u001b[036m=\u001b[036m=\u001b[036m=\u001b[036m=\u001b[036m=\u001b[036m=\u001b[036m=\u001b[036m=\u001b[036m=\u001b[036m=\u001b[036m=\u001b[036m=\u001b[036m=\u001b[036m=\u001b[036m=\u001b[036m=\u001b[036m=\u001b[036m=\u001b[036m=\u001b[036m=\u001b[036m=\u001b[036m=\u001b[036m=\u001b[036m=\u001b[036m=\u001b[036m=\u001b[036m=\u001b[036m=\u001b[036m=\u001b[036m=\u001b[036m=\u001b[036m=\u001b[036m=\u001b[036m=\u001b[036m=\u001b[036m=\u001b[036m=\u001b[036m=\u001b[036m=\u001b[036m=\u001b[036m=\u001b[036m=\u001b[036m=\u001b[036m=\u001b[036m=\u001b[036m=\u001b[036m=\u001b[036m=\u001b[036m=\u001b[036m=\n",
            "           Universidade de Vila Velha\n",
            "A maior universidade particular do Espirito Santo\n",
            "==================================================\n"
          ]
        }
      ]
    },
    {
      "cell_type": "markdown",
      "metadata": {
        "id": "OQRosfpn3_xz"
      },
      "source": [
        "COMO ENTREGAR A AOP2:\n",
        "\n",
        "*   **IMPRIMIR (NO SENTIDO PAISAGEM) ESTE NOTEBOOK EM PDF E FAZER O UPLOAD NO AVA.**\n"
      ]
    }
  ]
}